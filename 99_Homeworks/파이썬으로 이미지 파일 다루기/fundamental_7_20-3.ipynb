{
 "cells": [
  {
   "cell_type": "code",
   "execution_count": 1,
   "id": "3d4696a9",
   "metadata": {},
   "outputs": [],
   "source": [
    "import numpy as np\n",
    "from PIL import Image"
   ]
  },
  {
   "source": [
    "### hello \n"
   ],
   "cell_type": "markdown",
   "metadata": {}
  },
  {
   "cell_type": "code",
   "execution_count": 2,
   "id": "694783bb",
   "metadata": {},
   "outputs": [],
   "source": [
    "#- 문제 1 -#\n",
    "# [[YOUR CODE]]\n",
    "data = np.zeros([128, 128, 3], dtype=np.uint8)\n",
    "data[:, :] = [255, 255, 255]\n",
    "image = Image.fromarray(data, 'RGB')\n",
    "image.show()"
   ]
  },
  {
   "cell_type": "code",
   "execution_count": 4,
   "id": "ab5380ca",
   "metadata": {},
   "outputs": [],
   "source": [
    "#- 문제 2 -#\n",
    "from PIL import Image\n",
    "import os\n",
    "# 연습용 파일 경로\n",
    "image_path = './python_image_proc/pillow_practice.png'\n",
    "# 이미지 열기\n",
    "img = Image.open(image_path)\n",
    "img.show()"
   ]
  },
  {
   "cell_type": "code",
   "execution_count": 5,
   "id": "2a27a4b2",
   "metadata": {},
   "outputs": [
    {
     "name": "stdout",
     "output_type": "stream",
     "text": [
      "620\n",
      "465\n"
     ]
    }
   ],
   "source": [
    "# width와 height 출력\n",
    "print(img.width)\n",
    "print(img.height)"
   ]
  },
  {
   "cell_type": "code",
   "execution_count": 9,
   "id": "c0dddc0d",
   "metadata": {},
   "outputs": [],
   "source": [
    "# JPG 파일 형식으로 저장해보기\n",
    "new_image_path = './python_image_proc/pillow_practice.jpg'\n",
    "img = img.convert('RGB')\n",
    "img.save(new_image_path)"
   ]
  },
  {
   "cell_type": "code",
   "execution_count": 11,
   "id": "fc2d671d",
   "metadata": {},
   "outputs": [],
   "source": [
    "#- 문제 3 -# .resize()를 이용하여 이미지 크기를 100X200으로 변경\n",
    "resized_image = img.resize((100,200))\n",
    "resized_image.show()\n",
    "resized_image_path = './python_image_proc/pillow_practice_resized.png'\n",
    "resized_image.save(resized_image_path)"
   ]
  },
  {
   "cell_type": "code",
   "execution_count": 13,
   "id": "1dd0fb94",
   "metadata": {},
   "outputs": [],
   "source": [
    "#- 문제 4 -# .crop()을 이용하여 눈 부분만 잘라내어 저장해 봅시다.\n",
    "box = (300, 100, 600, 400)\n",
    "region = img.crop(box)\n",
    "region.show()\n",
    "cropped_image_path = './python_image_proc/pillow_practice_cropped.png'\n",
    "region.save(cropped_image_path)\n"
   ]
  },
  {
   "cell_type": "code",
   "execution_count": null,
   "id": "3ebad18e",
   "metadata": {},
   "outputs": [],
   "source": []
  }
 ],
 "metadata": {
  "kernelspec": {
   "name": "python394jvsc74a57bd05bbcfba0af128e6b66c2bfbf999bccbbcb5a23b4768301f164b5fec2568e5d70",
   "display_name": "Python 3.9.4 64-bit"
  },
  "language_info": {
   "codemirror_mode": {
    "name": "ipython",
    "version": 3
   },
   "file_extension": ".py",
   "mimetype": "text/x-python",
   "name": "python",
   "nbconvert_exporter": "python",
   "pygments_lexer": "ipython3",
   "version": "3.9.4"
  }
 },
 "nbformat": 4,
 "nbformat_minor": 5
}