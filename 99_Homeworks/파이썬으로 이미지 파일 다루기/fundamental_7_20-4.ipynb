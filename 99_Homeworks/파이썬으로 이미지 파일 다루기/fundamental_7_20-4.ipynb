{
 "cells": [
  {
   "cell_type": "code",
   "execution_count": 10,
   "id": "bc1cae0e",
   "metadata": {},
   "outputs": [],
   "source": [
    "import os\n",
    "import pickle\n",
    "\n",
    "import numpy as np\n",
    "from PIL import Image"
   ]
  },
  {
   "cell_type": "code",
   "execution_count": null,
   "id": "ca24adfb",
   "metadata": {
    "tags": [
     "outputPrepend"
    ]
   },
   "outputs": [],
   "source": [
    "dir_path = './python_image_proc/cifar-100-python'\n",
    "train_file_path = os.path.join(dir_path, 'train')\n",
    "with open(train_file_path, 'rb') as f:\n",
    "    train = pickle.load(f, encoding='bytes')\n",
    "print(type(train))\n",
    "print(train)\n",
    "# 혹시 내용이 궁금하다면 주석을 풀고 실행해 보세요."
   ]
  },
  {
   "cell_type": "code",
   "execution_count": 4,
   "id": "0a2bd941",
   "metadata": {},
   "outputs": [
    {
     "output_type": "execute_result",
     "data": {
      "text/plain": [
       "dict_keys([b'filenames', b'batch_label', b'fine_labels', b'coarse_labels', b'data'])"
      ]
     },
     "metadata": {},
     "execution_count": 4
    }
   ],
   "source": [
    "train.keys()"
   ]
  },
  {
   "cell_type": "code",
   "execution_count": 5,
   "metadata": {},
   "outputs": [
    {
     "output_type": "execute_result",
     "data": {
      "text/plain": [
       "list"
      ]
     },
     "metadata": {},
     "execution_count": 5
    }
   ],
   "source": [
    "type(train[b'filenames'])"
   ]
  },
  {
   "cell_type": "code",
   "execution_count": 6,
   "metadata": {},
   "outputs": [
    {
     "output_type": "execute_result",
     "data": {
      "text/plain": [
       "[b'bos_taurus_s_000507.png',\n",
       " b'stegosaurus_s_000125.png',\n",
       " b'mcintosh_s_000643.png',\n",
       " b'altar_boy_s_001435.png',\n",
       " b'cichlid_s_000031.png']"
      ]
     },
     "metadata": {},
     "execution_count": 6
    }
   ],
   "source": [
    "train[b'filenames'][0:5]"
   ]
  },
  {
   "cell_type": "code",
   "execution_count": 7,
   "metadata": {},
   "outputs": [
    {
     "output_type": "execute_result",
     "data": {
      "text/plain": [
       "array([[255, 255, 255, ...,  10,  59,  79],\n",
       "       [255, 253, 253, ..., 253, 253, 255],\n",
       "       [250, 248, 247, ..., 194, 207, 228],\n",
       "       [124, 131, 135, ..., 232, 236, 231],\n",
       "       [ 43,  32,  87, ...,  60,  29,  37]], dtype=uint8)"
      ]
     },
     "metadata": {},
     "execution_count": 7
    }
   ],
   "source": [
    "train[b'data'][0:5]"
   ]
  },
  {
   "cell_type": "code",
   "execution_count": 8,
   "metadata": {},
   "outputs": [
    {
     "output_type": "execute_result",
     "data": {
      "text/plain": [
       "(3072,)"
      ]
     },
     "metadata": {},
     "execution_count": 8
    }
   ],
   "source": [
    "train[b'data'][0].shape"
   ]
  },
  {
   "cell_type": "code",
   "execution_count": 11,
   "metadata": {},
   "outputs": [],
   "source": [
    "image_data = train[b'data'][0].reshape([32, 32, 3], order='F') # order를 주의하세요!!\n",
    "image = Image.fromarray(image_data)\n",
    "# Pillow를 사용하여 Numpy 배열을 Image객체로 만들어서\n",
    "image.show() # 화면에 띄워 봅시다!!"
   ]
  },
  {
   "cell_type": "code",
   "execution_count": 12,
   "metadata": {},
   "outputs": [],
   "source": [
    "image_data = image_data.swapaxes(0, 1)\n",
    "image = Image.fromarray(image_data)\n",
    "image.show()"
   ]
  },
  {
   "cell_type": "code",
   "execution_count": 19,
   "metadata": {},
   "outputs": [],
   "source": [
    "from tqdm import tqdm"
   ]
  },
  {
   "cell_type": "code",
   "execution_count": 22,
   "metadata": {},
   "outputs": [
    {
     "output_type": "stream",
     "name": "stderr",
     "text": [
      "100%|██████████| 50000/50000 [00:54<00:00, 921.01it/s]\n"
     ]
    }
   ],
   "source": [
    "dir_path = './python_image_proc/cifar-100-python'\n",
    "train_file_path = os.path.join(dir_path, 'train')\n",
    "# image를 저장할 cifar-100-python의 하위 디렉토리(images)를 생성합니다.\n",
    "images_dir_path = os.path.join(dir_path, 'images')\n",
    "if not os.path.exists(images_dir_path):\n",
    "    os.mkdir(images_dir_path) # images 디렉토리 생성\n",
    "\n",
    "# 32X32의 이미지 파일 50000개를 생성합니다.\n",
    "with open(train_file_path, 'rb') as f:\n",
    "    train = pickle.load(f, encoding='bytes')\n",
    "    for i in tqdm(range(len(train[b'filenames']))):\n",
    "        filename = train[b'filenames'][i].decode()\n",
    "        data = train[b'data'][i].reshape([32, 32, 3], order='F')\n",
    "        image = Image.fromarray(data.swapaxes(0, 1))\n",
    "        image.save(os.path.join(images_dir_path, filename))"
   ]
  },
  {
   "cell_type": "code",
   "execution_count": null,
   "metadata": {},
   "outputs": [],
   "source": []
  }
 ],
 "metadata": {
  "kernelspec": {
   "name": "python394jvsc74a57bd05bbcfba0af128e6b66c2bfbf999bccbbcb5a23b4768301f164b5fec2568e5d70",
   "display_name": "Python 3.9.4 64-bit"
  },
  "language_info": {
   "codemirror_mode": {
    "name": "ipython",
    "version": 3
   },
   "file_extension": ".py",
   "mimetype": "text/x-python",
   "name": "python",
   "nbconvert_exporter": "python",
   "pygments_lexer": "ipython3",
   "version": "3.9.4"
  }
 },
 "nbformat": 4,
 "nbformat_minor": 5
}