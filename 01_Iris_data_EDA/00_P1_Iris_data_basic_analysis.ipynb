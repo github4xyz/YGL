{
  "nbformat": 4,
  "nbformat_minor": 0,
  "metadata": {
    "colab": {
      "name": "00_P1_Iris data basic analysis.ipynb",
      "provenance": [],
      "collapsed_sections": [],
      "toc_visible": true,
      "authorship_tag": "ABX9TyNLNp1wHiJ8UUemE1EHmueY",
      "include_colab_link": true
    },
    "kernelspec": {
      "name": "python3",
      "display_name": "Python 3"
    },
    "language_info": {
      "name": "python"
    }
  },
  "cells": [
    {
      "cell_type": "markdown",
      "metadata": {
        "id": "view-in-github",
        "colab_type": "text"
      },
      "source": [
        "<a href=\"https://colab.research.google.com/github/github4xyz/YGL/blob/main/01_Iris_data_EDA/00_P1_Iris_data_basic_analysis.ipynb\" target=\"_parent\"><img src=\"https://colab.research.google.com/assets/colab-badge.svg\" alt=\"Open In Colab\"/></a>"
      ]
    },
    {
      "cell_type": "markdown",
      "metadata": {
        "id": "bU9viZ8NMmia"
      },
      "source": [
        "*Log*\n",
        "Started on 0506\n",
        "\n"
      ]
    },
    {
      "cell_type": "markdown",
      "metadata": {
        "id": "slPapuR-NfQ_"
      },
      "source": [
        "# Iris data analysis"
      ]
    },
    {
      "cell_type": "markdown",
      "metadata": {
        "id": "_5ROFIvCNqYZ"
      },
      "source": [
        "Motivation:\n",
        "\n",
        "\n",
        "\n",
        "\n",
        "Data analysis = EDA. before EDA, CDA (Confirmatory Data Analysis)\n",
        "\n",
        "\n",
        "\n",
        "Planning:\n",
        "\n",
        "\n",
        "Progress:\n",
        "\n",
        "\n",
        "Revised/adjustment:\n",
        "\n",
        "\n",
        "Lessons learnt:\n",
        "\n",
        "\n"
      ]
    },
    {
      "cell_type": "markdown",
      "metadata": {
        "id": "3H8Kt2JEPAOR"
      },
      "source": [
        "Resource:\n",
        "\n",
        "Name | Links | Priority\n",
        "--- | --- | ---\n",
        "**[MAIN]** Data Science Example - Iris dataset (R) | [Link](http://www.lac.inpe.br/~rafael.santos/Docs/CAP394/WholeStory-Iris.html) | Primary\n",
        "Machine Learning with Iris Dataset | [Link](https://www.kaggle.com/jchen2186/machine-learning-with-iris-dataset) | Secondary\n",
        "ML with Iris Dataset (RitchieNg) | [Link](https://www.ritchieng.com/machine-learning-iris-dataset/) | Secondary\n",
        "Exploring Classifiers with Python Scikit-learn — Iris Dataset | [Link](https://towardsdatascience.com/exploring-classifiers-with-python-scikit-learn-iris-dataset-2bcb490d2e1b) | Primary\n",
        "Visualizing decision tree | [Link](https://towardsdatascience.com/search?q=visualizing%20decision%20tree) | Primary\n",
        "Visualize a Decision Tree in 4 Ways with Scikit-Learn and Python | [Link](https://towardsdatascience.com/search?q=visualizing%20decision%20tree) | Primary\n",
        "Iris data on Wiki | [Link](https://en.wikipedia.org/wiki/Iris_flower_data_set) | Secondary\n",
        "**[Important]** Scikit-Learn Iris data Exploratory | [Link](https://www.kaggle.com/lalitharajesh/iris-dataset-exploratory-data-analysis) | Primary\n",
        "\n",
        "\n",
        "\n"
      ]
    },
    {
      "cell_type": "markdown",
      "metadata": {
        "id": "WwLOWFbY_ns9"
      },
      "source": [
        "## Iris data set"
      ]
    },
    {
      "cell_type": "markdown",
      "metadata": {
        "id": "Bqay2xQMbka8"
      },
      "source": [
        "## Scikit-Learn data details from \n",
        "https://scikit-learn.org/stable/modules/generated/sklearn.datasets.load_iris.html# \n"
      ]
    },
    {
      "cell_type": "code",
      "metadata": {
        "id": "-cDwDqGMMdsX"
      },
      "source": [
        "# import load_iris function from datasets module\n",
        "# convention is to import modules instead of sklearn as a whole\n",
        "from sklearn.datasets import load_iris"
      ],
      "execution_count": null,
      "outputs": []
    },
    {
      "cell_type": "code",
      "metadata": {
        "colab": {
          "base_uri": "https://localhost:8080/"
        },
        "id": "soteJDcC8T_1",
        "outputId": "d600b3f5-c594-4237-8774-c8a06188c8c3"
      },
      "source": [
        "# save \"bunch\" object containing iris dataset and its attributes\n",
        "# the data type is \"bunch\"\n",
        "iris = load_iris()\n",
        "type(iris)"
      ],
      "execution_count": null,
      "outputs": [
        {
          "output_type": "execute_result",
          "data": {
            "text/plain": [
              "sklearn.utils.Bunch"
            ]
          },
          "metadata": {
            "tags": []
          },
          "execution_count": 2
        }
      ]
    },
    {
      "cell_type": "code",
      "metadata": {
        "id": "wwE1tYJT8WS7"
      },
      "source": [
        "# print the iris data\n",
        "# same data as shown previously\n",
        "# each row represents each sample\n",
        "# each column represents the features\n",
        "print(iris.data)"
      ],
      "execution_count": null,
      "outputs": []
    },
    {
      "cell_type": "code",
      "metadata": {
        "colab": {
          "base_uri": "https://localhost:8080/"
        },
        "id": "XIrh0qDa8l4L",
        "outputId": "f6c28eb1-f43b-43fa-8864-aaebc6a4801d"
      },
      "source": [
        "# print integers representing the species of each observation\n",
        "# 0, 1, and 2 represent different species\n",
        "print(iris.target)"
      ],
      "execution_count": null,
      "outputs": [
        {
          "output_type": "stream",
          "text": [
            "[0 0 0 0 0 0 0 0 0 0 0 0 0 0 0 0 0 0 0 0 0 0 0 0 0 0 0 0 0 0 0 0 0 0 0 0 0\n",
            " 0 0 0 0 0 0 0 0 0 0 0 0 0 1 1 1 1 1 1 1 1 1 1 1 1 1 1 1 1 1 1 1 1 1 1 1 1\n",
            " 1 1 1 1 1 1 1 1 1 1 1 1 1 1 1 1 1 1 1 1 1 1 1 1 1 1 2 2 2 2 2 2 2 2 2 2 2\n",
            " 2 2 2 2 2 2 2 2 2 2 2 2 2 2 2 2 2 2 2 2 2 2 2 2 2 2 2 2 2 2 2 2 2 2 2 2 2\n",
            " 2 2]\n"
          ],
          "name": "stdout"
        }
      ]
    },
    {
      "cell_type": "code",
      "metadata": {
        "colab": {
          "base_uri": "https://localhost:8080/"
        },
        "id": "49YtFS8E8hYD",
        "outputId": "2b1209da-9259-49d0-d6ad-7e7a87e2d832"
      },
      "source": [
        "# print the names of the four features\n",
        "print(iris.feature_names)"
      ],
      "execution_count": null,
      "outputs": [
        {
          "output_type": "stream",
          "text": [
            "['sepal length (cm)', 'sepal width (cm)', 'petal length (cm)', 'petal width (cm)']\n"
          ],
          "name": "stdout"
        }
      ]
    },
    {
      "cell_type": "code",
      "metadata": {
        "colab": {
          "base_uri": "https://localhost:8080/"
        },
        "id": "042-lhW88tmT",
        "outputId": "c6659b5e-c448-423d-bbc8-96efafa2377c"
      },
      "source": [
        "# print the encoding scheme for species: 0 = setosa, 1 = versicolor, 2 = virginica\n",
        "print(iris.target_names)"
      ],
      "execution_count": null,
      "outputs": [
        {
          "output_type": "stream",
          "text": [
            "['setosa' 'versicolor' 'virginica']\n"
          ],
          "name": "stdout"
        }
      ]
    },
    {
      "cell_type": "code",
      "metadata": {
        "colab": {
          "base_uri": "https://localhost:8080/"
        },
        "id": "NQ0Ubh2L-tmz",
        "outputId": "34f4c60c-f88a-43dc-b5c4-0cdf9c7f992f"
      },
      "source": [
        "# check the types of the features and response\n",
        "print(type(iris.data))\n",
        "print(type(iris.target))"
      ],
      "execution_count": null,
      "outputs": [
        {
          "output_type": "stream",
          "text": [
            "<class 'numpy.ndarray'>\n",
            "<class 'numpy.ndarray'>\n"
          ],
          "name": "stdout"
        }
      ]
    },
    {
      "cell_type": "code",
      "metadata": {
        "colab": {
          "base_uri": "https://localhost:8080/"
        },
        "id": "qtzrI4uT-uwi",
        "outputId": "86b8f5bb-eddb-4b60-ec1b-ac744fc5ed7b"
      },
      "source": [
        "# check the shape of the features (first dimension = number of observations, second dimensions = number of features)\n",
        "print(iris.data.shape)"
      ],
      "execution_count": null,
      "outputs": [
        {
          "output_type": "stream",
          "text": [
            "(150, 4)\n"
          ],
          "name": "stdout"
        }
      ]
    },
    {
      "cell_type": "code",
      "metadata": {
        "colab": {
          "base_uri": "https://localhost:8080/"
        },
        "id": "2nF4QU4A-xwq",
        "outputId": "ab85928b-2ede-483c-e2ff-525b9be7cbe0"
      },
      "source": [
        "# check the shape of the response (single dimension matching the number of observations)\n",
        "print(iris.target.shape)"
      ],
      "execution_count": null,
      "outputs": [
        {
          "output_type": "stream",
          "text": [
            "(150,)\n"
          ],
          "name": "stdout"
        }
      ]
    },
    {
      "cell_type": "code",
      "metadata": {
        "id": "qyinu9Aw-1q6"
      },
      "source": [
        "# this ndarray can directly used for ploting!!!\n",
        "# but not so easy for data exploring/observing.\n",
        "\n",
        "# store feature matrix in \"X\"\n",
        "X = iris.data\n",
        "\n",
        "# store response vector in \"y\"\n",
        "y = iris.target\n",
        "\n",
        "# print(X)\n",
        "# print(y)"
      ],
      "execution_count": null,
      "outputs": []
    },
    {
      "cell_type": "markdown",
      "metadata": {
        "id": "Pzmvn9gz_yGa"
      },
      "source": [
        "# Into DataFrame"
      ]
    },
    {
      "cell_type": "markdown",
      "metadata": {
        "id": "6HT9CaVMdFuT"
      },
      "source": [
        "pandas DataFrame offers few statistical functions as following\n"
      ]
    },
    {
      "cell_type": "code",
      "metadata": {
        "id": "1fbj6FJ0_1vb"
      },
      "source": [
        "# Transforming ndarraies into DataFrames\n",
        "# \n",
        "\n",
        "import numpy as np\n",
        "import pandas as pd\n",
        "\n",
        "# Creating pandas Data Frame with Iris (Data Type Bunch (ndarray)) above\n",
        "# Combining the two data and target arraies into iris_df\n",
        "# Column labels with feature names and target\n",
        "# replace 0, 1, 2 with appropriate iris type\n",
        "iris_df = pd.DataFrame(data= np.c_[iris['data'], iris['target']], columns= iris['feature_names'] + ['target'])\n",
        "iris_df['target'] = iris_df['target'].map({0:\"setosa\", 1:\"versicolor\", 2:\"virginica\"})\n",
        "\n",
        "# Prepairing the Data Frame for Plotting\n",
        "# Sepal/Petal Length/Width = X, Iris Type = y\n",
        "X_iris_df = iris_df.iloc[:,:-1]\n",
        "y_iris_df = iris_df.iloc[:,[-1]]"
      ],
      "execution_count": null,
      "outputs": []
    },
    {
      "cell_type": "code",
      "metadata": {
        "colab": {
          "base_uri": "https://localhost:8080/",
          "height": 222
        },
        "id": "y8bQHClQEWqP",
        "outputId": "c1219d32-9e98-4283-bc35-34ea2fe779ba"
      },
      "source": [
        "# Check the data type of new data\n",
        "print(type(iris_df))\n",
        "\n",
        "# 5 from the beginning of the DF\n",
        "iris_df.head()"
      ],
      "execution_count": null,
      "outputs": [
        {
          "output_type": "stream",
          "text": [
            "<class 'pandas.core.frame.DataFrame'>\n"
          ],
          "name": "stdout"
        },
        {
          "output_type": "execute_result",
          "data": {
            "text/html": [
              "<div>\n",
              "<style scoped>\n",
              "    .dataframe tbody tr th:only-of-type {\n",
              "        vertical-align: middle;\n",
              "    }\n",
              "\n",
              "    .dataframe tbody tr th {\n",
              "        vertical-align: top;\n",
              "    }\n",
              "\n",
              "    .dataframe thead th {\n",
              "        text-align: right;\n",
              "    }\n",
              "</style>\n",
              "<table border=\"1\" class=\"dataframe\">\n",
              "  <thead>\n",
              "    <tr style=\"text-align: right;\">\n",
              "      <th></th>\n",
              "      <th>sepal length (cm)</th>\n",
              "      <th>sepal width (cm)</th>\n",
              "      <th>petal length (cm)</th>\n",
              "      <th>petal width (cm)</th>\n",
              "      <th>target</th>\n",
              "    </tr>\n",
              "  </thead>\n",
              "  <tbody>\n",
              "    <tr>\n",
              "      <th>0</th>\n",
              "      <td>5.1</td>\n",
              "      <td>3.5</td>\n",
              "      <td>1.4</td>\n",
              "      <td>0.2</td>\n",
              "      <td>setosa</td>\n",
              "    </tr>\n",
              "    <tr>\n",
              "      <th>1</th>\n",
              "      <td>4.9</td>\n",
              "      <td>3.0</td>\n",
              "      <td>1.4</td>\n",
              "      <td>0.2</td>\n",
              "      <td>setosa</td>\n",
              "    </tr>\n",
              "    <tr>\n",
              "      <th>2</th>\n",
              "      <td>4.7</td>\n",
              "      <td>3.2</td>\n",
              "      <td>1.3</td>\n",
              "      <td>0.2</td>\n",
              "      <td>setosa</td>\n",
              "    </tr>\n",
              "    <tr>\n",
              "      <th>3</th>\n",
              "      <td>4.6</td>\n",
              "      <td>3.1</td>\n",
              "      <td>1.5</td>\n",
              "      <td>0.2</td>\n",
              "      <td>setosa</td>\n",
              "    </tr>\n",
              "    <tr>\n",
              "      <th>4</th>\n",
              "      <td>5.0</td>\n",
              "      <td>3.6</td>\n",
              "      <td>1.4</td>\n",
              "      <td>0.2</td>\n",
              "      <td>setosa</td>\n",
              "    </tr>\n",
              "  </tbody>\n",
              "</table>\n",
              "</div>"
            ],
            "text/plain": [
              "   sepal length (cm)  sepal width (cm)  ...  petal width (cm)  target\n",
              "0                5.1               3.5  ...               0.2  setosa\n",
              "1                4.9               3.0  ...               0.2  setosa\n",
              "2                4.7               3.2  ...               0.2  setosa\n",
              "3                4.6               3.1  ...               0.2  setosa\n",
              "4                5.0               3.6  ...               0.2  setosa\n",
              "\n",
              "[5 rows x 5 columns]"
            ]
          },
          "metadata": {
            "tags": []
          },
          "execution_count": 18
        }
      ]
    },
    {
      "cell_type": "code",
      "metadata": {
        "colab": {
          "base_uri": "https://localhost:8080/",
          "height": 204
        },
        "id": "uSDmdV6GFUyH",
        "outputId": "ff1018d4-aa44-430c-aa40-f3ba7dbf488d"
      },
      "source": [
        "# 5 from the end of the DF\n",
        "iris_df.tail()"
      ],
      "execution_count": null,
      "outputs": [
        {
          "output_type": "execute_result",
          "data": {
            "text/html": [
              "<div>\n",
              "<style scoped>\n",
              "    .dataframe tbody tr th:only-of-type {\n",
              "        vertical-align: middle;\n",
              "    }\n",
              "\n",
              "    .dataframe tbody tr th {\n",
              "        vertical-align: top;\n",
              "    }\n",
              "\n",
              "    .dataframe thead th {\n",
              "        text-align: right;\n",
              "    }\n",
              "</style>\n",
              "<table border=\"1\" class=\"dataframe\">\n",
              "  <thead>\n",
              "    <tr style=\"text-align: right;\">\n",
              "      <th></th>\n",
              "      <th>sepal length (cm)</th>\n",
              "      <th>sepal width (cm)</th>\n",
              "      <th>petal length (cm)</th>\n",
              "      <th>petal width (cm)</th>\n",
              "      <th>target</th>\n",
              "    </tr>\n",
              "  </thead>\n",
              "  <tbody>\n",
              "    <tr>\n",
              "      <th>145</th>\n",
              "      <td>6.7</td>\n",
              "      <td>3.0</td>\n",
              "      <td>5.2</td>\n",
              "      <td>2.3</td>\n",
              "      <td>virginica</td>\n",
              "    </tr>\n",
              "    <tr>\n",
              "      <th>146</th>\n",
              "      <td>6.3</td>\n",
              "      <td>2.5</td>\n",
              "      <td>5.0</td>\n",
              "      <td>1.9</td>\n",
              "      <td>virginica</td>\n",
              "    </tr>\n",
              "    <tr>\n",
              "      <th>147</th>\n",
              "      <td>6.5</td>\n",
              "      <td>3.0</td>\n",
              "      <td>5.2</td>\n",
              "      <td>2.0</td>\n",
              "      <td>virginica</td>\n",
              "    </tr>\n",
              "    <tr>\n",
              "      <th>148</th>\n",
              "      <td>6.2</td>\n",
              "      <td>3.4</td>\n",
              "      <td>5.4</td>\n",
              "      <td>2.3</td>\n",
              "      <td>virginica</td>\n",
              "    </tr>\n",
              "    <tr>\n",
              "      <th>149</th>\n",
              "      <td>5.9</td>\n",
              "      <td>3.0</td>\n",
              "      <td>5.1</td>\n",
              "      <td>1.8</td>\n",
              "      <td>virginica</td>\n",
              "    </tr>\n",
              "  </tbody>\n",
              "</table>\n",
              "</div>"
            ],
            "text/plain": [
              "     sepal length (cm)  sepal width (cm)  ...  petal width (cm)     target\n",
              "145                6.7               3.0  ...               2.3  virginica\n",
              "146                6.3               2.5  ...               1.9  virginica\n",
              "147                6.5               3.0  ...               2.0  virginica\n",
              "148                6.2               3.4  ...               2.3  virginica\n",
              "149                5.9               3.0  ...               1.8  virginica\n",
              "\n",
              "[5 rows x 5 columns]"
            ]
          },
          "metadata": {
            "tags": []
          },
          "execution_count": 19
        }
      ]
    },
    {
      "cell_type": "code",
      "metadata": {
        "colab": {
          "base_uri": "https://localhost:8080/"
        },
        "id": "DccFEAqzFeV4",
        "outputId": "842ff525-02cd-4ee6-838e-573fb7a97b91"
      },
      "source": [
        "# check non-null data and data type of each features and target\n",
        "# Mememory usage\n",
        "\n",
        "iris_df.info()"
      ],
      "execution_count": null,
      "outputs": [
        {
          "output_type": "stream",
          "text": [
            "<class 'pandas.core.frame.DataFrame'>\n",
            "RangeIndex: 150 entries, 0 to 149\n",
            "Data columns (total 5 columns):\n",
            " #   Column             Non-Null Count  Dtype  \n",
            "---  ------             --------------  -----  \n",
            " 0   sepal length (cm)  150 non-null    float64\n",
            " 1   sepal width (cm)   150 non-null    float64\n",
            " 2   petal length (cm)  150 non-null    float64\n",
            " 3   petal width (cm)   150 non-null    float64\n",
            " 4   target             150 non-null    object \n",
            "dtypes: float64(4), object(1)\n",
            "memory usage: 6.0+ KB\n"
          ],
          "name": "stdout"
        }
      ]
    },
    {
      "cell_type": "code",
      "metadata": {
        "colab": {
          "base_uri": "https://localhost:8080/",
          "height": 297
        },
        "id": "qwJBmim-FD74",
        "outputId": "378dbba0-993f-432f-be03-cc54c777d486"
      },
      "source": [
        "# Basic statistical descriptions\n",
        "# Count, Mean, Standard deviation, Minimum, inter quatiles, Maximum of each features\n",
        "\n",
        "iris_df.describe()"
      ],
      "execution_count": null,
      "outputs": [
        {
          "output_type": "execute_result",
          "data": {
            "text/html": [
              "<div>\n",
              "<style scoped>\n",
              "    .dataframe tbody tr th:only-of-type {\n",
              "        vertical-align: middle;\n",
              "    }\n",
              "\n",
              "    .dataframe tbody tr th {\n",
              "        vertical-align: top;\n",
              "    }\n",
              "\n",
              "    .dataframe thead th {\n",
              "        text-align: right;\n",
              "    }\n",
              "</style>\n",
              "<table border=\"1\" class=\"dataframe\">\n",
              "  <thead>\n",
              "    <tr style=\"text-align: right;\">\n",
              "      <th></th>\n",
              "      <th>sepal length (cm)</th>\n",
              "      <th>sepal width (cm)</th>\n",
              "      <th>petal length (cm)</th>\n",
              "      <th>petal width (cm)</th>\n",
              "    </tr>\n",
              "  </thead>\n",
              "  <tbody>\n",
              "    <tr>\n",
              "      <th>count</th>\n",
              "      <td>150.000000</td>\n",
              "      <td>150.000000</td>\n",
              "      <td>150.000000</td>\n",
              "      <td>150.000000</td>\n",
              "    </tr>\n",
              "    <tr>\n",
              "      <th>mean</th>\n",
              "      <td>5.843333</td>\n",
              "      <td>3.057333</td>\n",
              "      <td>3.758000</td>\n",
              "      <td>1.199333</td>\n",
              "    </tr>\n",
              "    <tr>\n",
              "      <th>std</th>\n",
              "      <td>0.828066</td>\n",
              "      <td>0.435866</td>\n",
              "      <td>1.765298</td>\n",
              "      <td>0.762238</td>\n",
              "    </tr>\n",
              "    <tr>\n",
              "      <th>min</th>\n",
              "      <td>4.300000</td>\n",
              "      <td>2.000000</td>\n",
              "      <td>1.000000</td>\n",
              "      <td>0.100000</td>\n",
              "    </tr>\n",
              "    <tr>\n",
              "      <th>25%</th>\n",
              "      <td>5.100000</td>\n",
              "      <td>2.800000</td>\n",
              "      <td>1.600000</td>\n",
              "      <td>0.300000</td>\n",
              "    </tr>\n",
              "    <tr>\n",
              "      <th>50%</th>\n",
              "      <td>5.800000</td>\n",
              "      <td>3.000000</td>\n",
              "      <td>4.350000</td>\n",
              "      <td>1.300000</td>\n",
              "    </tr>\n",
              "    <tr>\n",
              "      <th>75%</th>\n",
              "      <td>6.400000</td>\n",
              "      <td>3.300000</td>\n",
              "      <td>5.100000</td>\n",
              "      <td>1.800000</td>\n",
              "    </tr>\n",
              "    <tr>\n",
              "      <th>max</th>\n",
              "      <td>7.900000</td>\n",
              "      <td>4.400000</td>\n",
              "      <td>6.900000</td>\n",
              "      <td>2.500000</td>\n",
              "    </tr>\n",
              "  </tbody>\n",
              "</table>\n",
              "</div>"
            ],
            "text/plain": [
              "       sepal length (cm)  sepal width (cm)  petal length (cm)  petal width (cm)\n",
              "count         150.000000        150.000000         150.000000        150.000000\n",
              "mean            5.843333          3.057333           3.758000          1.199333\n",
              "std             0.828066          0.435866           1.765298          0.762238\n",
              "min             4.300000          2.000000           1.000000          0.100000\n",
              "25%             5.100000          2.800000           1.600000          0.300000\n",
              "50%             5.800000          3.000000           4.350000          1.300000\n",
              "75%             6.400000          3.300000           5.100000          1.800000\n",
              "max             7.900000          4.400000           6.900000          2.500000"
            ]
          },
          "metadata": {
            "tags": []
          },
          "execution_count": 21
        }
      ]
    },
    {
      "cell_type": "code",
      "metadata": {
        "colab": {
          "base_uri": "https://localhost:8080/",
          "height": 390
        },
        "id": "DB4YwO-UQqK7",
        "outputId": "518761b7-2c38-473d-f884-522ed9f7f191"
      },
      "source": [
        "# Basic statistical descriptions\n",
        "# Count, Mean, Standard deviation, Minimum, inter quatiles, Maximum of each features\n",
        "# those are only for numeric data types\n",
        "# For all data, including none-numerial column such as 'target'\n",
        "\n",
        "# Note: unique, top, frequency are only for object data type\n",
        "\n",
        "iris_df.describe(include='all')\n"
      ],
      "execution_count": null,
      "outputs": [
        {
          "output_type": "execute_result",
          "data": {
            "text/html": [
              "<div>\n",
              "<style scoped>\n",
              "    .dataframe tbody tr th:only-of-type {\n",
              "        vertical-align: middle;\n",
              "    }\n",
              "\n",
              "    .dataframe tbody tr th {\n",
              "        vertical-align: top;\n",
              "    }\n",
              "\n",
              "    .dataframe thead th {\n",
              "        text-align: right;\n",
              "    }\n",
              "</style>\n",
              "<table border=\"1\" class=\"dataframe\">\n",
              "  <thead>\n",
              "    <tr style=\"text-align: right;\">\n",
              "      <th></th>\n",
              "      <th>sepal length (cm)</th>\n",
              "      <th>sepal width (cm)</th>\n",
              "      <th>petal length (cm)</th>\n",
              "      <th>petal width (cm)</th>\n",
              "      <th>target</th>\n",
              "    </tr>\n",
              "  </thead>\n",
              "  <tbody>\n",
              "    <tr>\n",
              "      <th>count</th>\n",
              "      <td>150.000000</td>\n",
              "      <td>150.000000</td>\n",
              "      <td>150.000000</td>\n",
              "      <td>150.000000</td>\n",
              "      <td>150</td>\n",
              "    </tr>\n",
              "    <tr>\n",
              "      <th>unique</th>\n",
              "      <td>NaN</td>\n",
              "      <td>NaN</td>\n",
              "      <td>NaN</td>\n",
              "      <td>NaN</td>\n",
              "      <td>3</td>\n",
              "    </tr>\n",
              "    <tr>\n",
              "      <th>top</th>\n",
              "      <td>NaN</td>\n",
              "      <td>NaN</td>\n",
              "      <td>NaN</td>\n",
              "      <td>NaN</td>\n",
              "      <td>setosa</td>\n",
              "    </tr>\n",
              "    <tr>\n",
              "      <th>freq</th>\n",
              "      <td>NaN</td>\n",
              "      <td>NaN</td>\n",
              "      <td>NaN</td>\n",
              "      <td>NaN</td>\n",
              "      <td>50</td>\n",
              "    </tr>\n",
              "    <tr>\n",
              "      <th>mean</th>\n",
              "      <td>5.843333</td>\n",
              "      <td>3.057333</td>\n",
              "      <td>3.758000</td>\n",
              "      <td>1.199333</td>\n",
              "      <td>NaN</td>\n",
              "    </tr>\n",
              "    <tr>\n",
              "      <th>std</th>\n",
              "      <td>0.828066</td>\n",
              "      <td>0.435866</td>\n",
              "      <td>1.765298</td>\n",
              "      <td>0.762238</td>\n",
              "      <td>NaN</td>\n",
              "    </tr>\n",
              "    <tr>\n",
              "      <th>min</th>\n",
              "      <td>4.300000</td>\n",
              "      <td>2.000000</td>\n",
              "      <td>1.000000</td>\n",
              "      <td>0.100000</td>\n",
              "      <td>NaN</td>\n",
              "    </tr>\n",
              "    <tr>\n",
              "      <th>25%</th>\n",
              "      <td>5.100000</td>\n",
              "      <td>2.800000</td>\n",
              "      <td>1.600000</td>\n",
              "      <td>0.300000</td>\n",
              "      <td>NaN</td>\n",
              "    </tr>\n",
              "    <tr>\n",
              "      <th>50%</th>\n",
              "      <td>5.800000</td>\n",
              "      <td>3.000000</td>\n",
              "      <td>4.350000</td>\n",
              "      <td>1.300000</td>\n",
              "      <td>NaN</td>\n",
              "    </tr>\n",
              "    <tr>\n",
              "      <th>75%</th>\n",
              "      <td>6.400000</td>\n",
              "      <td>3.300000</td>\n",
              "      <td>5.100000</td>\n",
              "      <td>1.800000</td>\n",
              "      <td>NaN</td>\n",
              "    </tr>\n",
              "    <tr>\n",
              "      <th>max</th>\n",
              "      <td>7.900000</td>\n",
              "      <td>4.400000</td>\n",
              "      <td>6.900000</td>\n",
              "      <td>2.500000</td>\n",
              "      <td>NaN</td>\n",
              "    </tr>\n",
              "  </tbody>\n",
              "</table>\n",
              "</div>"
            ],
            "text/plain": [
              "        sepal length (cm)  sepal width (cm)  ...  petal width (cm)  target\n",
              "count          150.000000        150.000000  ...        150.000000     150\n",
              "unique                NaN               NaN  ...               NaN       3\n",
              "top                   NaN               NaN  ...               NaN  setosa\n",
              "freq                  NaN               NaN  ...               NaN      50\n",
              "mean             5.843333          3.057333  ...          1.199333     NaN\n",
              "std              0.828066          0.435866  ...          0.762238     NaN\n",
              "min              4.300000          2.000000  ...          0.100000     NaN\n",
              "25%              5.100000          2.800000  ...          0.300000     NaN\n",
              "50%              5.800000          3.000000  ...          1.300000     NaN\n",
              "75%              6.400000          3.300000  ...          1.800000     NaN\n",
              "max              7.900000          4.400000  ...          2.500000     NaN\n",
              "\n",
              "[11 rows x 5 columns]"
            ]
          },
          "metadata": {
            "tags": []
          },
          "execution_count": 22
        }
      ]
    },
    {
      "cell_type": "code",
      "metadata": {
        "colab": {
          "base_uri": "https://localhost:8080/"
        },
        "id": "aqMAHGYFgOw7",
        "outputId": "2598fe6d-bf23-4be8-f6c6-b625a2bca636"
      },
      "source": [
        "# Fastest way to find if there is any missing values\n",
        "# iris_df.isnull().values.any()\n",
        "\n",
        "# Display if there is any NaN values in the DF\n",
        "iris_df.isnull().sum()\n",
        "\n",
        "# alternative\n",
        "# iris_df.apply(lambda x: sum(x.isnull()),axis=0)\n"
      ],
      "execution_count": null,
      "outputs": [
        {
          "output_type": "execute_result",
          "data": {
            "text/plain": [
              "sepal length (cm)    0\n",
              "sepal width (cm)     0\n",
              "petal length (cm)    0\n",
              "petal width (cm)     0\n",
              "target               0\n",
              "dtype: int64"
            ]
          },
          "metadata": {
            "tags": []
          },
          "execution_count": 28
        }
      ]
    },
    {
      "cell_type": "code",
      "metadata": {
        "colab": {
          "base_uri": "https://localhost:8080/"
        },
        "id": "OHn40gsmFptC",
        "outputId": "163f0975-0c7b-44e6-a96e-b46ef55b8a62"
      },
      "source": [
        "# count of each value of targets\n",
        "#\n",
        "\n",
        "iris_df['target'].value_counts()"
      ],
      "execution_count": null,
      "outputs": [
        {
          "output_type": "execute_result",
          "data": {
            "text/plain": [
              "setosa        50\n",
              "virginica     50\n",
              "versicolor    50\n",
              "Name: target, dtype: int64"
            ]
          },
          "metadata": {
            "tags": []
          },
          "execution_count": 29
        }
      ]
    },
    {
      "cell_type": "code",
      "metadata": {
        "colab": {
          "base_uri": "https://localhost:8080/",
          "height": 173
        },
        "id": "JO1tMjlDQdHK",
        "outputId": "f68904aa-25c0-4432-fc59-5da368013065"
      },
      "source": [
        "# Basic statistical descriptions for object data type\n",
        "# unique, top, frequency \n",
        "\n",
        "iris_df.describe(include=['object'])\n"
      ],
      "execution_count": null,
      "outputs": [
        {
          "output_type": "execute_result",
          "data": {
            "text/html": [
              "<div>\n",
              "<style scoped>\n",
              "    .dataframe tbody tr th:only-of-type {\n",
              "        vertical-align: middle;\n",
              "    }\n",
              "\n",
              "    .dataframe tbody tr th {\n",
              "        vertical-align: top;\n",
              "    }\n",
              "\n",
              "    .dataframe thead th {\n",
              "        text-align: right;\n",
              "    }\n",
              "</style>\n",
              "<table border=\"1\" class=\"dataframe\">\n",
              "  <thead>\n",
              "    <tr style=\"text-align: right;\">\n",
              "      <th></th>\n",
              "      <th>target</th>\n",
              "    </tr>\n",
              "  </thead>\n",
              "  <tbody>\n",
              "    <tr>\n",
              "      <th>count</th>\n",
              "      <td>150</td>\n",
              "    </tr>\n",
              "    <tr>\n",
              "      <th>unique</th>\n",
              "      <td>3</td>\n",
              "    </tr>\n",
              "    <tr>\n",
              "      <th>top</th>\n",
              "      <td>setosa</td>\n",
              "    </tr>\n",
              "    <tr>\n",
              "      <th>freq</th>\n",
              "      <td>50</td>\n",
              "    </tr>\n",
              "  </tbody>\n",
              "</table>\n",
              "</div>"
            ],
            "text/plain": [
              "        target\n",
              "count      150\n",
              "unique       3\n",
              "top     setosa\n",
              "freq        50"
            ]
          },
          "metadata": {
            "tags": []
          },
          "execution_count": 30
        }
      ]
    },
    {
      "cell_type": "code",
      "metadata": {
        "colab": {
          "base_uri": "https://localhost:8080/"
        },
        "id": "8HLWawAYJzw2",
        "outputId": "9ba9f8b8-df12-440c-d41f-9c7ef7fc14ce"
      },
      "source": [
        "# Displaying DataFrame for Plotting\n",
        "# Note: the shape of the data \n",
        "# [150 rows x 4 columns] and [150 rows x 1 columns]\n",
        "\n",
        "print(X_iris_df)\n",
        "print(y_iris_df)"
      ],
      "execution_count": null,
      "outputs": [
        {
          "output_type": "stream",
          "text": [
            "     sepal length (cm)  sepal width (cm)  petal length (cm)  petal width (cm)\n",
            "0                  5.1               3.5                1.4               0.2\n",
            "1                  4.9               3.0                1.4               0.2\n",
            "2                  4.7               3.2                1.3               0.2\n",
            "3                  4.6               3.1                1.5               0.2\n",
            "4                  5.0               3.6                1.4               0.2\n",
            "..                 ...               ...                ...               ...\n",
            "145                6.7               3.0                5.2               2.3\n",
            "146                6.3               2.5                5.0               1.9\n",
            "147                6.5               3.0                5.2               2.0\n",
            "148                6.2               3.4                5.4               2.3\n",
            "149                5.9               3.0                5.1               1.8\n",
            "\n",
            "[150 rows x 4 columns]\n",
            "        target\n",
            "0       setosa\n",
            "1       setosa\n",
            "2       setosa\n",
            "3       setosa\n",
            "4       setosa\n",
            "..         ...\n",
            "145  virginica\n",
            "146  virginica\n",
            "147  virginica\n",
            "148  virginica\n",
            "149  virginica\n",
            "\n",
            "[150 rows x 1 columns]\n"
          ],
          "name": "stdout"
        }
      ]
    },
    {
      "cell_type": "code",
      "metadata": {
        "colab": {
          "base_uri": "https://localhost:8080/"
        },
        "id": "jJXBHvrk9F3k",
        "outputId": "1881ca26-8365-487c-a7d3-5208fa584362"
      },
      "source": [
        "# Rearrange DataFrame grouped by target for \n",
        "# Basic statistical descriptions \n",
        "\n",
        "setosa=iris_df[iris_df['target']=='setosa']\n",
        "versicolor =iris_df[iris_df['target']=='versicolor']\n",
        "virginica =iris_df[iris_df['target']=='virginica']\n",
        "\n",
        "print(setosa.describe())\n",
        "print(versicolor.describe())\n",
        "print(virginica.describe())"
      ],
      "execution_count": null,
      "outputs": [
        {
          "output_type": "stream",
          "text": [
            "       sepal length (cm)  sepal width (cm)  petal length (cm)  petal width (cm)\n",
            "count           50.00000         50.000000          50.000000         50.000000\n",
            "mean             5.00600          3.428000           1.462000          0.246000\n",
            "std              0.35249          0.379064           0.173664          0.105386\n",
            "min              4.30000          2.300000           1.000000          0.100000\n",
            "25%              4.80000          3.200000           1.400000          0.200000\n",
            "50%              5.00000          3.400000           1.500000          0.200000\n",
            "75%              5.20000          3.675000           1.575000          0.300000\n",
            "max              5.80000          4.400000           1.900000          0.600000\n",
            "       sepal length (cm)  sepal width (cm)  petal length (cm)  petal width (cm)\n",
            "count          50.000000         50.000000          50.000000         50.000000\n",
            "mean            5.936000          2.770000           4.260000          1.326000\n",
            "std             0.516171          0.313798           0.469911          0.197753\n",
            "min             4.900000          2.000000           3.000000          1.000000\n",
            "25%             5.600000          2.525000           4.000000          1.200000\n",
            "50%             5.900000          2.800000           4.350000          1.300000\n",
            "75%             6.300000          3.000000           4.600000          1.500000\n",
            "max             7.000000          3.400000           5.100000          1.800000\n",
            "       sepal length (cm)  sepal width (cm)  petal length (cm)  petal width (cm)\n",
            "count           50.00000         50.000000          50.000000          50.00000\n",
            "mean             6.58800          2.974000           5.552000           2.02600\n",
            "std              0.63588          0.322497           0.551895           0.27465\n",
            "min              4.90000          2.200000           4.500000           1.40000\n",
            "25%              6.22500          2.800000           5.100000           1.80000\n",
            "50%              6.50000          3.000000           5.550000           2.00000\n",
            "75%              6.90000          3.175000           5.875000           2.30000\n",
            "max              7.90000          3.800000           6.900000           2.50000\n"
          ],
          "name": "stdout"
        }
      ]
    },
    {
      "cell_type": "markdown",
      "metadata": {
        "id": "K0PyiMYaUoiw"
      },
      "source": [
        "# Few other Statistical explore in Python"
      ]
    },
    {
      "cell_type": "markdown",
      "metadata": {
        "id": "IVj9JdKu9-sF"
      },
      "source": [
        "## scipy.stats.describe"
      ]
    },
    {
      "cell_type": "code",
      "metadata": {
        "id": "2jP2jRuHU9VY",
        "colab": {
          "base_uri": "https://localhost:8080/"
        },
        "outputId": "90b3ba22-46b4-4c77-e47d-7dce2bad7253"
      },
      "source": [
        "# using scipy to perform a summary (describe)\n",
        "\n",
        "from scipy import stats\n",
        "\n",
        "stats.describe(X, ddof=1, bias=False)"
      ],
      "execution_count": null,
      "outputs": [
        {
          "output_type": "execute_result",
          "data": {
            "text/plain": [
              "DescribeResult(nobs=150, minmax=(array([4.3, 2. , 1. , 0.1]), array([7.9, 4.4, 6.9, 2.5])), mean=array([5.84333333, 3.05733333, 3.758     , 1.19933333]), variance=array([0.68569351, 0.18997942, 3.11627785, 0.58100626]), skewness=array([ 0.31491096,  0.31896566, -0.27488418, -0.10296675]), kurtosis=array([-0.55206404,  0.22824904, -1.40210342, -1.340604  ]))"
            ]
          },
          "metadata": {
            "tags": []
          },
          "execution_count": 13
        }
      ]
    },
    {
      "cell_type": "code",
      "metadata": {
        "colab": {
          "base_uri": "https://localhost:8080/"
        },
        "id": "O3LmRoRE9CRW",
        "outputId": "a19d227e-6748-40c6-da7b-53dc8f543e3d"
      },
      "source": [
        "# In addtition to pandas describe,\n",
        "# it provides variance, skewness, kurtosis\n",
        "\n",
        "result = stats.describe(X, ddof=1, bias=False)\n",
        "\n",
        "print(result.nobs)\n",
        "print(result.minmax[0])  # Min\n",
        "print(result.minmax[1])  # Max\n",
        "print(result.mean)\n",
        "print(result.variance)\n",
        "print(result.skewness)\n",
        "print(result.kurtosis)"
      ],
      "execution_count": null,
      "outputs": [
        {
          "output_type": "stream",
          "text": [
            "150\n",
            "[4.3 2.  1.  0.1]\n",
            "[7.9 4.4 6.9 2.5]\n",
            "[5.84333333 3.05733333 3.758      1.19933333]\n",
            "[0.68569351 0.18997942 3.11627785 0.58100626]\n",
            "[ 0.31491096  0.31896566 -0.27488418 -0.10296675]\n",
            "[-0.55206404  0.22824904 -1.40210342 -1.340604  ]\n"
          ],
          "name": "stdout"
        }
      ]
    },
    {
      "cell_type": "markdown",
      "metadata": {
        "id": "9OxWmuem-Mps"
      },
      "source": [
        "## Measures of Correlation Between Pairs of Data\n",
        "\n",
        "\n"
      ]
    },
    {
      "cell_type": "markdown",
      "metadata": {
        "id": "7cPU3ve9-d2l"
      },
      "source": [
        "You’ll see the following measures of correlation between pairs of data:\n",
        "\n",
        "* **Positive correlation** exists when larger values of 𝑥 correspond to larger values of 𝑦 and vice versa.\n",
        "* **Negative correlation** exists when larger values of 𝑥 correspond to smaller values of 𝑦 and vice versa.\n",
        "* **Weak or no correlation exists** if there is no such apparent relationship.\n",
        "\n",
        "---\n",
        "\n",
        "\n",
        "\n",
        "![Picture](https://files.realpython.com/media/py-stats-08.5a1e9f3e3aa4.png )\n",
        "\n",
        "From https://realpython.com/python-statistics/\n"
      ]
    },
    {
      "cell_type": "markdown",
      "metadata": {
        "id": "odpvOej6HwRX"
      },
      "source": [
        "The two statistics that measure the correlation between datasets are **covariance** and the **correlation coefficient** \n",
        "\n",
        "Might need to convert the data to NumPy arrays and/or Pandas Series\n",
        "* NumPy has the function cov() that returns the covariance matrix:"
      ]
    },
    {
      "cell_type": "code",
      "metadata": {
        "id": "0Uxfmc4n-aGi"
      },
      "source": [
        ""
      ],
      "execution_count": null,
      "outputs": []
    },
    {
      "cell_type": "markdown",
      "metadata": {
        "id": "tMLBKfyxIiJK"
      },
      "source": [
        "## Correlation Coefficient "
      ]
    },
    {
      "cell_type": "markdown",
      "metadata": {
        "id": "uJMER2T3Isn0"
      },
      "source": [
        "The **correlation coefficient**, or **Pearson product-moment correlation coefficient**, is denoted by the symbol 𝑟. The coefficient is another measure of the correlation between data. You can think of it as a standardized covariance. Here are some important facts about it:\n",
        "\n",
        "* The **value 𝑟 > 0** indicates positive correlation.\n",
        "* The **value 𝑟 < 0** indicates negative correlation.\n",
        "* The **value r = 1** is the maximum possible value of 𝑟. It corresponds to a perfect positive linear relationship between variables.\n",
        "* The **value r = −1** is the minimum possible value of 𝑟. It corresponds to a perfect negative linear relationship between variables.\n",
        "* The **value r ≈ 0, or when 𝑟 is around zero**, means that the correlation between variables is weak."
      ]
    },
    {
      "cell_type": "markdown",
      "metadata": {
        "id": "9oYVugKnJIrf"
      },
      "source": [
        "```\n",
        "r, p = scipy.stats.pearsonr(x_, y_)\n",
        "```\n",
        "\n",
        "\n",
        "correlation coefficient matrix\n",
        "\n",
        "```\n",
        "corr_matrix = np.corrcoef(x_, y_)      #numpy\n",
        "\n",
        "# or\n",
        "\n",
        "scipy.stats.linregress(x_, y_)   # rvalue = correlation coefficient\n",
        "\n",
        "# or \n",
        "\n",
        "r = x__.corr(y__)    # pandas\n",
        "```\n",
        "\n",
        "\n"
      ]
    }
  ]
}